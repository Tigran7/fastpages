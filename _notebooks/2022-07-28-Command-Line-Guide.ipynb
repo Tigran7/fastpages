{
 "cells": [
  {
   "cell_type": "markdown",
   "id": "bf7f3556-cf7f-4a55-b2ed-a26dd18fbe60",
   "metadata": {
    "tags": []
   },
   "source": [
    "# Command Line"
   ]
  },
  {
   "cell_type": "markdown",
   "id": "7f60e889-9b74-44dc-ad76-10b2f83b741d",
   "metadata": {
    "tags": []
   },
   "source": [
    "## Navigating File System"
   ]
  },
  {
   "cell_type": "markdown",
   "id": "c16b6506-468b-4524-a28d-885a0977098f",
   "metadata": {},
   "source": [
    "- filesystem organizes data stored by computer\n",
    "- tree-like structure\n",
    "    - root directory is the base of the tree\n",
    "    - parent directory contains children"
   ]
  },
  {
   "cell_type": "markdown",
   "id": "ee8c5ccd-0e83-4a4c-83c0-c18b3dc90334",
   "metadata": {},
   "source": [
    "### Helper Commands\n",
    "- tab, autocomplete line\n",
    "- up and down arrow key, cycle through previous commands\n",
    "- clear, clear terminal"
   ]
  },
  {
   "cell_type": "markdown",
   "id": "0094530f-3beb-43ae-8d29-f1ac91782957",
   "metadata": {},
   "source": [
    "### pwd\n",
    "pwd displays the file path from the root directory to the current working directory."
   ]
  },
  {
   "cell_type": "markdown",
   "id": "396cb901-650f-4523-b9fc-b7758742e4eb",
   "metadata": {},
   "source": [
    "### mkdir\n",
    "make new directory"
   ]
  },
  {
   "cell_type": "markdown",
   "id": "e76f9451-4556-409f-8204-801d08545411",
   "metadata": {},
   "source": [
    "### ls\n",
    "list contents of directory"
   ]
  },
  {
   "cell_type": "markdown",
   "id": "bcd1f204-1212-457d-9d23-b64bc234c489",
   "metadata": {},
   "source": [
    "#### options\n",
    "Options modify the behavior of a command\n",
    "- -a, lists all contents, including hidden files and directories\n",
    "- -l, lists all contents of a directory in long format, as well as the file permissions\n",
    "- -t, orders files and directories by the time they were last modified"
   ]
  },
  {
   "cell_type": "markdown",
   "id": "9ccec971-b013-469c-a388-6a03cb3cbbcc",
   "metadata": {},
   "source": [
    "### cd\n",
    "Used to move through filesystems, 'change directory'\n",
    "1. Full file paths, /c/Users/Thomas/Favorites/Pictures\n",
    "2. children of current directory, cd Thomas/\n",
    "3. .. or../.. to go back to parent of directory"
   ]
  },
  {
   "cell_type": "markdown",
   "id": "0f2424d1-958a-443b-8afc-b4186cb274cd",
   "metadata": {},
   "source": [
    "### touch\n",
    "create file in working directory, touch grocery-list.txt"
   ]
  }
 ],
 "metadata": {
  "kernelspec": {
   "display_name": "Bash",
   "language": "bash",
   "name": "bash"
  },
  "language_info": {
   "codemirror_mode": {
    "name": "ipython",
    "version": 3
   },
   "file_extension": ".py",
   "mimetype": "text/x-python",
   "name": "python",
   "nbconvert_exporter": "python",
   "pygments_lexer": "ipython3",
   "version": "3.10.5"
  },
  "toc-autonumbering": false,
  "toc-showtags": false
 },
 "nbformat": 4,
 "nbformat_minor": 5
}
